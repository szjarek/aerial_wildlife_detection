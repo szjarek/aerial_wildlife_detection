{
 "cells": [
  {
   "cell_type": "code",
   "execution_count": 1,
   "metadata": {},
   "outputs": [],
   "source": [
    "import os\n",
    "import json\n",
    "from glob import glob"
   ]
  },
  {
   "cell_type": "code",
   "execution_count": 3,
   "metadata": {},
   "outputs": [],
   "source": [
    "CLASSES = ['sheep', 'cattle', 'other']\n",
    "dataset_path_src = '../../data/labels_raw/*.json'\n",
    "dataset_path_dst = '../../data/labels'"
   ]
  },
  {
   "cell_type": "code",
   "execution_count": 4,
   "metadata": {},
   "outputs": [],
   "source": [
    "labels_paths = glob(dataset_path_src)"
   ]
  },
  {
   "cell_type": "code",
   "execution_count": 5,
   "metadata": {},
   "outputs": [],
   "source": [
    "for lp in labels_paths:\n",
    "    name_src = os.path.basename(lp)\n",
    "    name_dst = os.path.join(dataset_path_dst, os.path.splitext(name_src)[0] + '.txt')\n",
    "    \n",
    "    with open(lp) as f:\n",
    "        data = json.load(f)\n",
    "    imgWidth = data['imageWidth']\n",
    "    imgHeight = data['imageHeight']\n",
    "    \n",
    "    shapes = data['shapes']\n",
    "    labels = []\n",
    "    for shape in shapes:       \n",
    "        i = CLASSES.index(shape['label'])\n",
    "        p1 = shape['points'][0]\n",
    "        p2 = shape['points'][1]\n",
    "                \n",
    "        x = ((p2[0] + p1[0]) / 2.0) / imgWidth\n",
    "        y = ((p2[1] + p1[1]) / 2.0) / imgHeight\n",
    "        \n",
    "        w = abs(p2[0] - p1[0]) / imgWidth\n",
    "        h = abs(p2[1] - p1[1]) / imgHeight\n",
    "\n",
    "        c = shape.get('confidence', 0.9)\n",
    "\n",
    "        cl = \"{} {} {} {} {} {} {}\".format(i, x, y, w, h, c, 1.0)\n",
    "        labels.append(cl)\n",
    "        #print(cl)\n",
    "        \n",
    "\n",
    "    #print(name_dst, str(labels))\n",
    "    with open(name_dst, \"w\") as f:\n",
    "        f.write(\"\\n\".join(labels))"
   ]
  },
  {
   "cell_type": "code",
   "execution_count": null,
   "metadata": {},
   "outputs": [],
   "source": []
  }
 ],
 "metadata": {
  "kernelspec": {
   "display_name": "daera py36",
   "language": "python",
   "name": "daera"
  },
  "language_info": {
   "codemirror_mode": {
    "name": "ipython",
    "version": 3
   },
   "file_extension": ".py",
   "mimetype": "text/x-python",
   "name": "python",
   "nbconvert_exporter": "python",
   "pygments_lexer": "ipython3",
   "version": "3.6.7"
  }
 },
 "nbformat": 4,
 "nbformat_minor": 2
}
